{
 "cells": [
  {
   "cell_type": "code",
   "execution_count": 3,
   "id": "72ba16b3",
   "metadata": {},
   "outputs": [
    {
     "name": "stdout",
     "output_type": "stream",
     "text": [
      "Isikan nilai : 12\n",
      "12 adalah bilangan genap\n",
      "Program selesai\n"
     ]
    }
   ],
   "source": [
    "nilai = int(input(\"Isikan nilai : \"))\n",
    "\n",
    "sisa_bagi = nilai %2\n",
    "if sisa_bagi == 0: \n",
    "    print(f\"{nilai} adalah bilangan genap\")\n",
    "else : \n",
    "    print(f\"{nilai} adalah bilangan ganjil\")\n",
    "print(\"Program selesai\")    "
   ]
  },
  {
   "cell_type": "code",
   "execution_count": 11,
   "id": "1aa3d95b",
   "metadata": {},
   "outputs": [
    {
     "name": "stdout",
     "output_type": "stream",
     "text": [
      "Isikan nilai pemrograman: -19\n",
      "Nilai Anda salah\n"
     ]
    }
   ],
   "source": [
    "nilai_pemrograman = int(input(\"Isikan nilai pemrograman: \"))\n",
    "\n",
    "if nilai_pemrograman < 0 or nilai_pemrograman >100:\n",
    "    print(\"Nilai Anda salah\")\n",
    "elif nilai_pemrograman < 50:\n",
    "    print(\"E\")\n",
    "elif nilai_pemrograman <60:\n",
    "    print(\"D\")\n",
    "elif nilai_pemrograman <70:\n",
    "    print(\"C\")\n",
    "elif nilai_pemrograman < 85:\n",
    "    print(\"B\")\n",
    "elif nilai_pemrograman <=100:\n",
    "    print(\"A\")"
   ]
  },
  {
   "cell_type": "code",
   "execution_count": 1,
   "id": "e1aad50c",
   "metadata": {},
   "outputs": [
    {
     "name": "stdout",
     "output_type": "stream",
     "text": [
      "Isikan username : admin\n",
      "Isikan password : admin\n",
      "Selamat datang admin\n"
     ]
    }
   ],
   "source": [
    "username = input(\"Isikan username : \")\n",
    "password = input(\"Isikan password : \")\n",
    "\n",
    "if username == \"admin\":\n",
    "    if password == 'admin':\n",
    "        print(f\"Selamat datang {username}\")\n",
    "    else: \n",
    "        print(\"Password anda salah\")\n",
    "else : \n",
    "    if password == \"admin\":\n",
    "        print(\"Username anda salah\")\n",
    "    else : \n",
    "        print(\"Username dan password anda salah\")"
   ]
  },
  {
   "cell_type": "code",
   "execution_count": 29,
   "id": "2ff13f08",
   "metadata": {},
   "outputs": [
    {
     "name": "stdout",
     "output_type": "stream",
     "text": [
      "Masukkan nama : Loooww\n",
      "Masukkan umur : 51\n",
      "Masukkan tempat tinggal : Nevada\n",
      "Masukkan uang tabungan dalam juta dolar($): 11\n",
      "Loooww kemungkinan adalah seorang anggota mafia dengan pangkat Don\n"
     ]
    }
   ],
   "source": [
    "nama = input(\"Masukkan nama : \")\n",
    "umur = int(input(\"Masukkan umur : \"))\n",
    "tempat_tinggal = input(\"Masukkan tempat tinggal : \")\n",
    "tabungan = float(input(\"Masukkan uang tabungan dalam juta dolar($): \"))\n",
    "pangkat=''\n",
    "if umur > 40:\n",
    "    if tempat_tinggal ==\"Nevada\" or tempat_tinggal == \"New York\" or tempat_tinggal == \"Havana\":\n",
    "        if tabungan > 10:\n",
    "            pangkat = \"Don\"            \n",
    "elif umur >= 25 and umur<=40:\n",
    "    if tempat_tinggal ==\"New Jersey\" or tempat_tinggal == \"Manhattan\" or tempat_tinggal == \"Nevada\":\n",
    "        if tabungan > 0 and tabungan <=2:\n",
    "            pangkat = \"Underboss\"\n",
    "elif umur >= 18 and umur <= 24:\n",
    "    if tempat_tinggal ==\"California\" or tempat_tinggal == \"Detroit\" or tempat_tinggal == \"Boston\":\n",
    "        if tabungan < 1:\n",
    "            pangkat = \"Capo\"\n",
    "\n",
    "            \n",
    "if pangkat != '':\n",
    "    print(f\"{nama} kemungkinan adalah seorang anggota mafia dengan pangkat {pangkat}\")\n",
    "else : \n",
    "    print(f\"{nama} tidak mencurigakan\")\n",
    "    "
   ]
  },
  {
   "cell_type": "markdown",
   "id": "76cf5e31",
   "metadata": {},
   "source": []
  }
 ],
 "metadata": {
  "kernelspec": {
   "display_name": "Python 3 (ipykernel)",
   "language": "python",
   "name": "python3"
  },
  "language_info": {
   "codemirror_mode": {
    "name": "ipython",
    "version": 3
   },
   "file_extension": ".py",
   "mimetype": "text/x-python",
   "name": "python",
   "nbconvert_exporter": "python",
   "pygments_lexer": "ipython3",
   "version": "3.9.12"
  }
 },
 "nbformat": 4,
 "nbformat_minor": 5
}
